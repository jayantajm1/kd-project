{
  "nbformat": 4,
  "nbformat_minor": 0,
  "metadata": {
    "colab": {
      "provenance": []
    },
    "kernelspec": {
      "name": "python3",
      "display_name": "Python 3"
    },
    "language_info": {
      "name": "python"
    }
  },
  "cells": [
    {
      "cell_type": "code",
      "execution_count": 1,
      "metadata": {
        "id": "dUVlmaZ7jhoi",
        "colab": {
          "base_uri": "https://localhost:8080/",
          "height": 0
        },
        "outputId": "752489eb-99b7-4d14-87e7-9f30cbfd717d"
      },
      "outputs": [
        {
          "output_type": "stream",
          "name": "stdout",
          "text": [
            "              precision    recall  f1-score   support\n",
            "\n",
            "           0       1.00      1.00      1.00        62\n",
            "           1       1.00      1.00      1.00        38\n",
            "\n",
            "    accuracy                           1.00       100\n",
            "   macro avg       1.00      1.00      1.00       100\n",
            "weighted avg       1.00      1.00      1.00       100\n",
            "\n",
            "✅ Model saved as 'keylogger_intrusion_model.pkl'\n"
          ]
        }
      ],
      "source": [
        "import pandas as pd\n",
        "import numpy as np\n",
        "from sklearn.ensemble import RandomForestClassifier\n",
        "from sklearn.model_selection import train_test_split\n",
        "from sklearn.metrics import classification_report\n",
        "import pickle\n",
        "\n",
        "# Step 1: Load or generate dataset\n",
        "# If you already generated it, use: df = pd.read_csv(\"synthetic_keylogger_intrusion_data.csv\")\n",
        "\n",
        "# Otherwise, regenerate it\n",
        "def generate_entry():\n",
        "    suspicious_cmds = [\"whoami\", \"ipconfig\", \"tasklist\", \"netstat\", \"msfvenom\", \"exploit\", \"reverse_shell\", \"ncat\", \"powershell\"]\n",
        "    normal_cmds = [\"hello\", \"email\", \"meeting\", \"project\", \"thanks\", \"assignment\", \"notes\", \"login\", \"password123\"]\n",
        "    is_malicious = np.random.rand() < 0.3\n",
        "\n",
        "    if is_malicious:\n",
        "        cmd_count = np.random.randint(1, 4)\n",
        "        keystrokes = \" && \".join(np.random.choice(suspicious_cmds, size=cmd_count))\n",
        "        suspicious_keywords = sum(1 for word in suspicious_cmds if word in keystrokes)\n",
        "        access_to_admin = 1\n",
        "        repeated_password_inputs = np.random.randint(2, 6)\n",
        "    else:\n",
        "        cmd_count = np.random.randint(3, 6)\n",
        "        keystrokes = \" \".join(np.random.choice(normal_cmds, size=cmd_count))\n",
        "        suspicious_keywords = 0\n",
        "        access_to_admin = 0\n",
        "        repeated_password_inputs = np.random.randint(0, 2)\n",
        "\n",
        "    return {\n",
        "        \"keystroke\": keystrokes,\n",
        "        \"keystroke_length\": len(keystrokes),\n",
        "        \"command_detected\": int(any(cmd in keystrokes for cmd in suspicious_cmds)),\n",
        "        \"repeated_password_inputs\": repeated_password_inputs,\n",
        "        \"suspicious_keywords\": suspicious_keywords,\n",
        "        \"access_to_admin_tools\": access_to_admin,\n",
        "        \"hour_of_day\": np.random.randint(0, 24),\n",
        "        \"label\": int(is_malicious)\n",
        "    }\n",
        "\n",
        "df = pd.DataFrame([generate_entry() for _ in range(500)])\n",
        "\n",
        "# Step 2: Feature selection\n",
        "features = [\"keystroke_length\", \"command_detected\", \"repeated_password_inputs\",\n",
        "            \"suspicious_keywords\", \"access_to_admin_tools\", \"hour_of_day\"]\n",
        "X = df[features]\n",
        "y = df[\"label\"]\n",
        "\n",
        "# Step 3: Split and train model\n",
        "X_train, X_test, y_train, y_test = train_test_split(X, y, test_size=0.2, random_state=42)\n",
        "model = RandomForestClassifier(n_estimators=100, random_state=42)\n",
        "model.fit(X_train, y_train)\n",
        "\n",
        "# Step 4: Evaluation\n",
        "y_pred = model.predict(X_test)\n",
        "print(classification_report(y_test, y_pred))\n",
        "\n",
        "# Step 5: Save model to .pkl\n",
        "with open(\"keylogger_intrusion_model.pkl\", \"wb\") as f:\n",
        "    pickle.dump(model, f)\n",
        "\n",
        "print(\"✅ Model saved as 'keylogger_intrusion_model.pkl'\")"
      ]
    },
    {
      "cell_type": "code",
      "source": [
        "import re\n",
        "import pickle\n",
        "from datetime import datetime\n",
        "\n",
        "# ✅ Load the trained model (ensure file is uploaded in /content/)\n",
        "model_path = \"/content/keylogger_intrusion_model.pkl\"\n",
        "keylog_path = \"/content/normal_keylog.txt\"\n",
        "\n",
        "# Load model\n",
        "with open(model_path, \"rb\") as f:\n",
        "    model = pickle.load(f)\n",
        "\n",
        "# Read keylog data\n",
        "with open(keylog_path, \"r\") as f:\n",
        "    raw_data = f.read().lower()\n",
        "\n",
        "# ✅ Feature extraction function with 6 features\n",
        "def extract_features_from_keylog(raw_text):\n",
        "    special_keys = ['enter', 'ctrl', 'alt', 'esc', 'shift', 'tab', 'backspace']\n",
        "    hacking_keywords = ['netstat', 'msfvenom', 'exploit', 'reverse', 'shell', 'payload', 'tasklist']\n",
        "\n",
        "    keystroke_length = len(re.findall(r\"[a-z0-9]\", raw_text))  # Count of normal characters\n",
        "    special_keys_count = sum(raw_text.count(k) for k in special_keys)\n",
        "    command_count = sum(raw_text.count(cmd) for cmd in ['netstat', 'tasklist', 'whoami', 'ipconfig'])\n",
        "    contains_keywords = sum(raw_text.count(k) for k in hacking_keywords)\n",
        "    password_attempts = raw_text.count(\"password\")\n",
        "    hour_of_day = datetime.now().hour  # Current hour (0–23)\n",
        "\n",
        "    # ✅ Ensure feature order matches training:\n",
        "    # [\"keystroke_length\", \"command_detected\", \"repeated_password_inputs\",\n",
        "    #  \"suspicious_keywords\", \"access_to_admin_tools\", \"hour_of_day\"]\n",
        "    return [[\n",
        "        keystroke_length,\n",
        "        command_count,\n",
        "        password_attempts,\n",
        "        contains_keywords,\n",
        "        special_keys_count,\n",
        "        hour_of_day\n",
        "    ]]\n",
        "\n",
        "# Extract features\n",
        "features = extract_features_from_keylog(raw_data)\n",
        "\n",
        "# ✅ Make prediction\n",
        "prediction = model.predict(features)[0]\n",
        "\n",
        "# ✅ Output result\n",
        "if prediction == 1:\n",
        "    print(\"⚠ Potential Exploitation Detected\")\n",
        "else:\n",
        "    print(\"✅ Normal Activity\")\n"
      ],
      "metadata": {
        "id": "8uxk8GbbjnbJ",
        "colab": {
          "base_uri": "https://localhost:8080/",
          "height": 0
        },
        "outputId": "72892a76-a423-4bc1-b48a-20172cb4600d"
      },
      "execution_count": 5,
      "outputs": [
        {
          "output_type": "stream",
          "name": "stdout",
          "text": [
            "✅ Normal Activity\n"
          ]
        },
        {
          "output_type": "stream",
          "name": "stderr",
          "text": [
            "/usr/local/lib/python3.11/dist-packages/sklearn/utils/validation.py:2739: UserWarning: X does not have valid feature names, but RandomForestClassifier was fitted with feature names\n",
            "  warnings.warn(\n"
          ]
        }
      ]
    },
    {
      "cell_type": "code",
      "source": [
        "import re\n",
        "import pickle\n",
        "\n",
        "# ✅ Load the trained model\n",
        "model_path = \"/content/keylogger_intrusion_model.pkl\"\n",
        "with open(model_path, \"rb\") as f:\n",
        "    model = pickle.load(f)\n",
        "\n",
        "# ✅ Feature extractor\n",
        "def extract_features_from_keylog(raw_text):\n",
        "    special_keys = ['enter', 'ctrl', 'alt', 'esc', 'shift', 'tab', 'backspace']\n",
        "    hacking_keywords = ['netstat', 'msfvenom', 'exploit', 'reverse', 'shell', 'payload', 'tasklist']\n",
        "\n",
        "    keystroke_length = len(re.findall(r\"[a-z0-9]\", raw_text))  # Count of normal characters\n",
        "    special_keys_count = sum(raw_text.count(k) for k in special_keys)\n",
        "    command_count = sum(raw_text.count(cmd) for cmd in ['netstat', 'tasklist', 'whoami', 'ipconfig'])\n",
        "    contains_keywords = sum(raw_text.count(k) for k in hacking_keywords)\n",
        "    password_attempts = raw_text.count(\"password\")\n",
        "    hour_of_day = 14  # You can modify this if you want dynamic time-based simulation\n",
        "\n",
        "    return [[keystroke_length, command_count, password_attempts, contains_keywords, special_keys_count, hour_of_day]]\n",
        "\n",
        "# ✅ List of test keylog files\n",
        "log_files = [\"normal_keylog.txt\", \"malicious_keylog.txt\"]\n",
        "\n",
        "# ✅ Run tests\n",
        "for file in log_files:\n",
        "    try:\n",
        "        with open(f\"/content/{file}\", \"r\") as f:\n",
        "            raw_data = f.read().lower()\n",
        "\n",
        "        features = extract_features_from_keylog(raw_data)\n",
        "        prediction = model.predict(features)[0]\n",
        "\n",
        "        print(f\"\\n📄 Testing: {file}\")\n",
        "        print(\"🔍 Prediction:\", \"⚠ Potential Exploitation Detected\" if prediction == 1 else \"✅ Normal Activity\")\n",
        "    except FileNotFoundError:\n",
        "        print(f\"❌ File not found: {file}\")\n"
      ],
      "metadata": {
        "id": "DQF94GLEjqXo",
        "colab": {
          "base_uri": "https://localhost:8080/",
          "height": 0
        },
        "outputId": "866f0c86-37da-469a-8e7c-dc982633fec0"
      },
      "execution_count": 7,
      "outputs": [
        {
          "output_type": "stream",
          "name": "stdout",
          "text": [
            "\n",
            "📄 Testing: normal_keylog.txt\n",
            "🔍 Prediction: ✅ Normal Activity\n",
            "\n",
            "📄 Testing: malicious_keylog.txt\n",
            "🔍 Prediction: ⚠ Potential Exploitation Detected\n"
          ]
        },
        {
          "output_type": "stream",
          "name": "stderr",
          "text": [
            "/usr/local/lib/python3.11/dist-packages/sklearn/utils/validation.py:2739: UserWarning: X does not have valid feature names, but RandomForestClassifier was fitted with feature names\n",
            "  warnings.warn(\n",
            "/usr/local/lib/python3.11/dist-packages/sklearn/utils/validation.py:2739: UserWarning: X does not have valid feature names, but RandomForestClassifier was fitted with feature names\n",
            "  warnings.warn(\n"
          ]
        }
      ]
    }
  ]
}